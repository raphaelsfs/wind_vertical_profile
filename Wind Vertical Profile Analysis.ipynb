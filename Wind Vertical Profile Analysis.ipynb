{
 "cells": [
  {
   "cell_type": "markdown",
   "metadata": {},
   "source": [
    "# <font color='blue'> <div style='text-align: center'>Variability of Vertical Wind Shear </div>"
   ]
  },
  {
   "cell_type": "markdown",
   "metadata": {},
   "source": [
    "## <font color='green'> TXT to CSV"
   ]
  },
  {
   "cell_type": "code",
   "execution_count": 1,
   "metadata": {},
   "outputs": [
    {
     "data": {
      "text/html": [
       "<div>\n",
       "<style scoped>\n",
       "    .dataframe tbody tr th:only-of-type {\n",
       "        vertical-align: middle;\n",
       "    }\n",
       "\n",
       "    .dataframe tbody tr th {\n",
       "        vertical-align: top;\n",
       "    }\n",
       "\n",
       "    .dataframe thead th {\n",
       "        text-align: right;\n",
       "    }\n",
       "</style>\n",
       "<table border=\"1\" class=\"dataframe\">\n",
       "  <thead>\n",
       "    <tr style=\"text-align: right;\">\n",
       "      <th></th>\n",
       "      <th>Year</th>\n",
       "      <th>Month</th>\n",
       "      <th>Day</th>\n",
       "      <th>Hour</th>\n",
       "      <th>40</th>\n",
       "      <th>60</th>\n",
       "      <th>80</th>\n",
       "      <th>100</th>\n",
       "      <th>120</th>\n",
       "      <th>140</th>\n",
       "      <th>150</th>\n",
       "      <th>160</th>\n",
       "      <th>180</th>\n",
       "      <th>200</th>\n",
       "      <th>225</th>\n",
       "      <th>250</th>\n",
       "    </tr>\n",
       "  </thead>\n",
       "  <tbody>\n",
       "    <tr>\n",
       "      <th>0</th>\n",
       "      <td>2014</td>\n",
       "      <td>8</td>\n",
       "      <td>1</td>\n",
       "      <td>0</td>\n",
       "      <td>3.52</td>\n",
       "      <td>4.16</td>\n",
       "      <td>4.58</td>\n",
       "      <td>4.83</td>\n",
       "      <td>5.02</td>\n",
       "      <td>5.24</td>\n",
       "      <td>5.44</td>\n",
       "      <td>5.60</td>\n",
       "      <td>5.68</td>\n",
       "      <td>5.68</td>\n",
       "      <td>5.83</td>\n",
       "      <td>5.81</td>\n",
       "    </tr>\n",
       "    <tr>\n",
       "      <th>1</th>\n",
       "      <td>2014</td>\n",
       "      <td>8</td>\n",
       "      <td>1</td>\n",
       "      <td>1</td>\n",
       "      <td>3.32</td>\n",
       "      <td>4.08</td>\n",
       "      <td>4.58</td>\n",
       "      <td>4.88</td>\n",
       "      <td>5.14</td>\n",
       "      <td>5.38</td>\n",
       "      <td>5.57</td>\n",
       "      <td>5.73</td>\n",
       "      <td>5.95</td>\n",
       "      <td>6.09</td>\n",
       "      <td>6.48</td>\n",
       "      <td>6.74</td>\n",
       "    </tr>\n",
       "    <tr>\n",
       "      <th>2</th>\n",
       "      <td>2014</td>\n",
       "      <td>8</td>\n",
       "      <td>1</td>\n",
       "      <td>2</td>\n",
       "      <td>3.03</td>\n",
       "      <td>3.64</td>\n",
       "      <td>4.15</td>\n",
       "      <td>4.48</td>\n",
       "      <td>4.80</td>\n",
       "      <td>5.12</td>\n",
       "      <td>5.35</td>\n",
       "      <td>5.52</td>\n",
       "      <td>5.74</td>\n",
       "      <td>5.97</td>\n",
       "      <td>6.63</td>\n",
       "      <td>6.72</td>\n",
       "    </tr>\n",
       "    <tr>\n",
       "      <th>3</th>\n",
       "      <td>2014</td>\n",
       "      <td>8</td>\n",
       "      <td>1</td>\n",
       "      <td>3</td>\n",
       "      <td>2.58</td>\n",
       "      <td>3.24</td>\n",
       "      <td>3.78</td>\n",
       "      <td>4.10</td>\n",
       "      <td>4.35</td>\n",
       "      <td>4.58</td>\n",
       "      <td>4.75</td>\n",
       "      <td>4.95</td>\n",
       "      <td>5.29</td>\n",
       "      <td>5.63</td>\n",
       "      <td>5.94</td>\n",
       "      <td>5.86</td>\n",
       "    </tr>\n",
       "    <tr>\n",
       "      <th>4</th>\n",
       "      <td>2014</td>\n",
       "      <td>8</td>\n",
       "      <td>1</td>\n",
       "      <td>4</td>\n",
       "      <td>3.13</td>\n",
       "      <td>3.82</td>\n",
       "      <td>4.32</td>\n",
       "      <td>4.56</td>\n",
       "      <td>4.69</td>\n",
       "      <td>4.87</td>\n",
       "      <td>5.08</td>\n",
       "      <td>5.16</td>\n",
       "      <td>5.28</td>\n",
       "      <td>5.60</td>\n",
       "      <td>6.19</td>\n",
       "      <td>6.18</td>\n",
       "    </tr>\n",
       "  </tbody>\n",
       "</table>\n",
       "</div>"
      ],
      "text/plain": [
       "   Year  Month  Day  Hour    40    60    80   100   120   140   150   160  \\\n",
       "0  2014      8    1     0  3.52  4.16  4.58  4.83  5.02  5.24  5.44  5.60   \n",
       "1  2014      8    1     1  3.32  4.08  4.58  4.88  5.14  5.38  5.57  5.73   \n",
       "2  2014      8    1     2  3.03  3.64  4.15  4.48  4.80  5.12  5.35  5.52   \n",
       "3  2014      8    1     3  2.58  3.24  3.78  4.10  4.35  4.58  4.75  4.95   \n",
       "4  2014      8    1     4  3.13  3.82  4.32  4.56  4.69  4.87  5.08  5.16   \n",
       "\n",
       "    180   200   225   250  \n",
       "0  5.68  5.68  5.83  5.81  \n",
       "1  5.95  6.09  6.48  6.74  \n",
       "2  5.74  5.97  6.63  6.72  \n",
       "3  5.29  5.63  5.94  5.86  \n",
       "4  5.28  5.60  6.19  6.18  "
      ]
     },
     "execution_count": 1,
     "metadata": {},
     "output_type": "execute_result"
    }
   ],
   "source": [
    "import pandas as pd\n",
    "\n",
    "# Defining the headers for each column\n",
    "Headers = [\"Year\", \"Month\", \"Day\", \"Hour\", \"40\", \"60\", \"80\", \"100\", \"120\",\n",
    "           \"140\", \"150\", \"160\", \"180\", \"200\", \"225\", \"250\"]\n",
    "\n",
    "# Reading the txt file\n",
    "dataset = pd.read_csv('Lidar_wind_vertical_profile.txt', delimiter=' ', header=None, names= Headers)\n",
    "\n",
    "#Converting the txt file to csv\n",
    "#df = dataset.to_csv('Lidar_wind_profile.csv', header=None, index=False)\n",
    "\n",
    "dataset.head()"
   ]
  },
  {
   "cell_type": "markdown",
   "metadata": {},
   "source": [
    "## <font color='green'> Analysing and cleaning the data"
   ]
  },
  {
   "cell_type": "code",
   "execution_count": null,
   "metadata": {},
   "outputs": [],
   "source": [
    "# Analysing if there is some missing data\n",
    "\n",
    "# missing_data = dataset.isnull()\n",
    "# for column in missing_data.columns.values.tolist():\n",
    "#     print(column)\n",
    "#     print(missing_data[column].value_counts())\n",
    "#     print('')\n"
   ]
  },
  {
   "cell_type": "code",
   "execution_count": null,
   "metadata": {},
   "outputs": [],
   "source": [
    "# Cleaning the data\n",
    "\n",
    "# Removing the unnecessary columns\n",
    "# dataset.drop(['Year', 'Month', 'Day', 'Hour'], axis=1, inplace=True)\n",
    "\n",
    "# Reseting the index\n",
    "# dataset.reset_index(drop=True, inplace=True)\n",
    "\n",
    "# dataset.head()"
   ]
  },
  {
   "cell_type": "markdown",
   "metadata": {},
   "source": [
    "## <font color='green'> Regression Analysis First Row"
   ]
  },
  {
   "cell_type": "code",
   "execution_count": 2,
   "metadata": {},
   "outputs": [],
   "source": [
    "# Importing dependencies\n",
    "\n",
    "import numpy as np\n",
    "import matplotlib.pyplot as plt\n",
    "from sklearn.metrics import r2_score\n",
    "import scipy.stats as sts\n",
    "%matplotlib inline"
   ]
  },
  {
   "cell_type": "code",
   "execution_count": 3,
   "metadata": {},
   "outputs": [],
   "source": [
    "# Locking the data in the first row and only the velocity columns\n",
    "\n",
    "First_midnight_profile = dataset.iloc[[0], 4:].transpose() # Transposing the dataframe\n",
    "First_midnight_profile.columns = ['V [m/s]'] # Renaming the column\n",
    "\n",
    "#display(First_midnight_profile)"
   ]
  },
  {
   "cell_type": "code",
   "execution_count": 4,
   "metadata": {},
   "outputs": [
    {
     "name": "stdout",
     "output_type": "stream",
     "text": [
      "The 5º degree polynomial fit is the best one to represent this profile.\n"
     ]
    }
   ],
   "source": [
    "# Generating the fitted curves\n",
    "\n",
    "x = First_midnight_profile['V [m/s]'].values # Creating a list with only the values for velocity\n",
    "y = pd.to_numeric(First_midnight_profile.index.values) # Creating a list with only the values for height\n",
    "\n",
    "p = []\n",
    "for i in range(5):\n",
    "    p.append(np.polyfit(x,y,i+1))\n",
    "    \n",
    "# Calculating R square\n",
    "r2 = []\n",
    "for j in range(len(p)):\n",
    "    r = round(r2_score(y,np.polyval(p[j], x)), 5)\n",
    "    r2.append(r)\n",
    "\n",
    "# Choosing the best fit\n",
    "\n",
    "best = r2.index(max(r2)) + 1\n",
    "print('The {}º degree polynomial fit is the best one to represent this profile.'.format(best))"
   ]
  },
  {
   "cell_type": "code",
   "execution_count": 5,
   "metadata": {},
   "outputs": [
    {
     "data": {
      "image/png": "[encoded data removed]",
      "text/plain": [
       "<Figure size 432x288 with 1 Axes>"
      ]
     },
     "metadata": {
      "needs_background": "light"
     },
     "output_type": "display_data"
    }
   ],
   "source": [
    "# Plotting the velocity vertical profile\n",
    "\n",
    "plt.plot(x, y, 'kx') # Plotting the measured points\n",
    "plt.plot(x, np.polyval(p[0], x), 'r--') # Linear regression\n",
    "plt.plot(x, np.polyval(p[1], x), 'b-') # Polynomial regression, degree=2\n",
    "plt.plot(x, np.polyval(p[2], x), 'g-') # Polynomial regression, degree=3\n",
    "plt.plot(x, np.polyval(p[3], x), 'y-') # Polynomial regression, degree=4\n",
    "plt.plot(x, np.polyval(p[4], x), 'r-') # Polynomial regression, degree=5\n",
    "\n",
    "plt.title('Velocity Vertical Profile')\n",
    "plt.xlabel('Velocity [m/s]')\n",
    "plt.ylabel('Height [m]');"
   ]
  },
  {
   "cell_type": "markdown",
   "metadata": {},
   "source": [
    "## <font color='green'> Logarithmic Analysis"
   ]
  },
  {
   "cell_type": "code",
   "execution_count": 6,
   "metadata": {},
   "outputs": [
    {
     "name": "stdout",
     "output_type": "stream",
     "text": [
      "[0.27567294 0.28919781]\n",
      "Alpha= 0.27567293898867307\n"
     ]
    }
   ],
   "source": [
    "#from sklearn.linear_model import LinearRegression\n",
    "# Creating the logarithmic parameters\n",
    "\n",
    "x_ln = np.log(y)\n",
    "y_ln = np.log(x)\n",
    "\n",
    "# Performing the linear regression\n",
    "\n",
    "p_ln = np.polyfit(x_ln, y_ln, 1)\n",
    "alpha = p_ln[0] # Alpha is the slope of the linear regression\n",
    "intercept = p_ln[1] # The y-intercept represents V1\n",
    "\n",
    "print(p_ln)\n",
    "print('Alpha=', alpha)"
   ]
  },
  {
   "cell_type": "code",
   "execution_count": 7,
   "metadata": {},
   "outputs": [
    {
     "data": {
      "image/png": "[encoded data removed]",
      "text/plain": [
       "<Figure size 432x288 with 1 Axes>"
      ]
     },
     "metadata": {
      "needs_background": "light"
     },
     "output_type": "display_data"
    }
   ],
   "source": [
    "plt.plot(x_ln, y_ln, 'kx')\n",
    "plt.plot(x_ln, np.polyval(p_ln, x_ln), 'r-')\n",
    "plt.title('Logarithmic Representation for the Profile')\n",
    "plt.xlabel('ln Z [m]')\n",
    "plt.ylabel('ln V [m/s]');"
   ]
  },
  {
   "cell_type": "markdown",
   "metadata": {},
   "source": [
    "## <font color='green'> Logarithimic Linear Regression Entire Data"
   ]
  },
  {
   "cell_type": "code",
   "execution_count": 8,
   "metadata": {},
   "outputs": [],
   "source": [
    "# Defining the x and y values using the logarithmic values\n",
    "x = np.log(pd.to_numeric(dataset.columns[4:].values))\n",
    "y = []\n",
    "\n",
    "for i in range(len(dataset)):\n",
    "    y0 = np.log(dataset.iloc[i][4:].values)\n",
    "    y.append(y0)\n",
    "\n",
    "# Finding the alpha through the linear regression for each column of velocities\n",
    "alphas = []\n",
    "for j in range (len(y)):\n",
    "    p = np.polyfit(x, y[j], 1)\n",
    "    alpha = p[0]\n",
    "    alphas.append(alpha)\n"
   ]
  },
  {
   "cell_type": "code",
   "execution_count": 9,
   "metadata": {},
   "outputs": [
    {
     "data": {
      "text/html": [
       "<div>\n",
       "<style scoped>\n",
       "    .dataframe tbody tr th:only-of-type {\n",
       "        vertical-align: middle;\n",
       "    }\n",
       "\n",
       "    .dataframe tbody tr th {\n",
       "        vertical-align: top;\n",
       "    }\n",
       "\n",
       "    .dataframe thead th {\n",
       "        text-align: right;\n",
       "    }\n",
       "</style>\n",
       "<table border=\"1\" class=\"dataframe\">\n",
       "  <thead>\n",
       "    <tr style=\"text-align: right;\">\n",
       "      <th></th>\n",
       "      <th>Year</th>\n",
       "      <th>Month</th>\n",
       "      <th>Day</th>\n",
       "      <th>Hour</th>\n",
       "      <th>40</th>\n",
       "      <th>60</th>\n",
       "      <th>80</th>\n",
       "      <th>100</th>\n",
       "      <th>120</th>\n",
       "      <th>140</th>\n",
       "      <th>150</th>\n",
       "      <th>160</th>\n",
       "      <th>180</th>\n",
       "      <th>200</th>\n",
       "      <th>225</th>\n",
       "      <th>250</th>\n",
       "      <th>Alphas</th>\n",
       "    </tr>\n",
       "  </thead>\n",
       "  <tbody>\n",
       "    <tr>\n",
       "      <th>0</th>\n",
       "      <td>2014</td>\n",
       "      <td>8</td>\n",
       "      <td>1</td>\n",
       "      <td>0</td>\n",
       "      <td>3.52</td>\n",
       "      <td>4.16</td>\n",
       "      <td>4.58</td>\n",
       "      <td>4.83</td>\n",
       "      <td>5.02</td>\n",
       "      <td>5.24</td>\n",
       "      <td>5.44</td>\n",
       "      <td>5.60</td>\n",
       "      <td>5.68</td>\n",
       "      <td>5.68</td>\n",
       "      <td>5.83</td>\n",
       "      <td>5.81</td>\n",
       "      <td>0.275673</td>\n",
       "    </tr>\n",
       "    <tr>\n",
       "      <th>1</th>\n",
       "      <td>2014</td>\n",
       "      <td>8</td>\n",
       "      <td>1</td>\n",
       "      <td>1</td>\n",
       "      <td>3.32</td>\n",
       "      <td>4.08</td>\n",
       "      <td>4.58</td>\n",
       "      <td>4.88</td>\n",
       "      <td>5.14</td>\n",
       "      <td>5.38</td>\n",
       "      <td>5.57</td>\n",
       "      <td>5.73</td>\n",
       "      <td>5.95</td>\n",
       "      <td>6.09</td>\n",
       "      <td>6.48</td>\n",
       "      <td>6.74</td>\n",
       "      <td>0.365437</td>\n",
       "    </tr>\n",
       "    <tr>\n",
       "      <th>2</th>\n",
       "      <td>2014</td>\n",
       "      <td>8</td>\n",
       "      <td>1</td>\n",
       "      <td>2</td>\n",
       "      <td>3.03</td>\n",
       "      <td>3.64</td>\n",
       "      <td>4.15</td>\n",
       "      <td>4.48</td>\n",
       "      <td>4.80</td>\n",
       "      <td>5.12</td>\n",
       "      <td>5.35</td>\n",
       "      <td>5.52</td>\n",
       "      <td>5.74</td>\n",
       "      <td>5.97</td>\n",
       "      <td>6.63</td>\n",
       "      <td>6.72</td>\n",
       "      <td>0.431942</td>\n",
       "    </tr>\n",
       "    <tr>\n",
       "      <th>3</th>\n",
       "      <td>2014</td>\n",
       "      <td>8</td>\n",
       "      <td>1</td>\n",
       "      <td>3</td>\n",
       "      <td>2.58</td>\n",
       "      <td>3.24</td>\n",
       "      <td>3.78</td>\n",
       "      <td>4.10</td>\n",
       "      <td>4.35</td>\n",
       "      <td>4.58</td>\n",
       "      <td>4.75</td>\n",
       "      <td>4.95</td>\n",
       "      <td>5.29</td>\n",
       "      <td>5.63</td>\n",
       "      <td>5.94</td>\n",
       "      <td>5.86</td>\n",
       "      <td>0.450911</td>\n",
       "    </tr>\n",
       "    <tr>\n",
       "      <th>4</th>\n",
       "      <td>2014</td>\n",
       "      <td>8</td>\n",
       "      <td>1</td>\n",
       "      <td>4</td>\n",
       "      <td>3.13</td>\n",
       "      <td>3.82</td>\n",
       "      <td>4.32</td>\n",
       "      <td>4.56</td>\n",
       "      <td>4.69</td>\n",
       "      <td>4.87</td>\n",
       "      <td>5.08</td>\n",
       "      <td>5.16</td>\n",
       "      <td>5.28</td>\n",
       "      <td>5.60</td>\n",
       "      <td>6.19</td>\n",
       "      <td>6.18</td>\n",
       "      <td>0.348400</td>\n",
       "    </tr>\n",
       "  </tbody>\n",
       "</table>\n",
       "</div>"
      ],
      "text/plain": [
       "   Year  Month  Day  Hour    40    60    80   100   120   140   150   160  \\\n",
       "0  2014      8    1     0  3.52  4.16  4.58  4.83  5.02  5.24  5.44  5.60   \n",
       "1  2014      8    1     1  3.32  4.08  4.58  4.88  5.14  5.38  5.57  5.73   \n",
       "2  2014      8    1     2  3.03  3.64  4.15  4.48  4.80  5.12  5.35  5.52   \n",
       "3  2014      8    1     3  2.58  3.24  3.78  4.10  4.35  4.58  4.75  4.95   \n",
       "4  2014      8    1     4  3.13  3.82  4.32  4.56  4.69  4.87  5.08  5.16   \n",
       "\n",
       "    180   200   225   250    Alphas  \n",
       "0  5.68  5.68  5.83  5.81  0.275673  \n",
       "1  5.95  6.09  6.48  6.74  0.365437  \n",
       "2  5.74  5.97  6.63  6.72  0.431942  \n",
       "3  5.29  5.63  5.94  5.86  0.450911  \n",
       "4  5.28  5.60  6.19  6.18  0.348400  "
      ]
     },
     "execution_count": 9,
     "metadata": {},
     "output_type": "execute_result"
    }
   ],
   "source": [
    "dataset['Alphas'] = alphas\n",
    "dataset.head()"
   ]
  },
  {
   "cell_type": "code",
   "execution_count": 92,
   "metadata": {},
   "outputs": [
    {
     "name": "stdout",
     "output_type": "stream",
     "text": [
      "The median of alpha is: 0.311\n"
     ]
    },
    {
     "data": {
      "image/png": "[encoded data removed]",
      "text/plain": [
       "<Figure size 720x432 with 1 Axes>"
      ]
     },
     "metadata": {
      "needs_background": "light"
     },
     "output_type": "display_data"
    }
   ],
   "source": [
    "bins = int((min(dataset['Alphas'])+max(dataset['Alphas']))/0.02) + 1\n",
    "\n",
    "# Plotting the histogram\n",
    "plt.figure(figsize=(10,6))\n",
    "plt.hist(dataset['Alphas'], bins, histtype='bar', edgecolor='black', density=True)\n",
    "plt.title('Alpha histogram')\n",
    "plt.xlabel('Alpha')\n",
    "plt.ylabel('Frequency')\n",
    "\n",
    "# Calculating the Normal distribution\n",
    "\n",
    "# Locations where to compute the theoretical distribution\n",
    "#ext = plt.xticks()[0]\n",
    "#extmin, extmax = min(ext), max(ext)\n",
    "#space = np.linspace(xmin, xmax, len(dataset['Alphas']))\n",
    "\n",
    "#m, sigma = st.norm.fit(dataset['Alphas']) # Getting mean and standard deviation\n",
    "#pdf_norm = st.norm.pdf(space, m, sigma) # Obtaining the theoretical values inside the interval\n",
    "\n",
    "# Plotting a normal distribution for evaluation\n",
    "#plt.plot(space, pdf_norm, label='Normal')\n",
    "\n",
    "# Mean of alpha distribution\n",
    "med = np.mean(dataset['Alphas'])\n",
    "print('The median of alpha is:', round(med, 3))"
   ]
  },
  {
   "cell_type": "code",
   "execution_count": 93,
   "metadata": {},
   "outputs": [
    {
     "data": {
      "image/png": "[encoded data removed]",
      "text/plain": [
       "<Figure size 1008x360 with 2 Axes>"
      ]
     },
     "metadata": {
      "needs_background": "light"
     },
     "output_type": "display_data"
    },
    {
     "name": "stdout",
     "output_type": "stream",
     "text": [
      "The median value for alpha during the day is 0.239.\n",
      "Whereas the median value fo alpha during the night is 0.382\n"
     ]
    },
    {
     "data": {
      "text/plain": [
       "''"
      ]
     },
     "execution_count": 93,
     "metadata": {},
     "output_type": "execute_result"
    }
   ],
   "source": [
    "# Separating the data into day and night periods\n",
    "Daytime = np.array([8, 9, 10, 11, 12, 13, 14, 15, 16, 17, 18, 19])\n",
    "Nighttime = np.array([20, 21, 22, 23, 0, 1, 2, 3, 4, 5, 6, 7])\n",
    "\n",
    "Day = dataset[dataset.Hour.isin(Daytime)]\n",
    "Night = dataset[dataset.Hour.isin(Nighttime)]\n",
    "\n",
    "# Plotting alpha for the different periods in a day\n",
    "plt.figure(figsize=(14, 5))\n",
    "\n",
    "plt.subplot(1, 2, 1)\n",
    "plt.hist(Day['Alphas'], bins, histtype='bar', color='blue', edgecolor='black')\n",
    "plt.title('Alpha through daytime')\n",
    "plt.xlabel('Alpha')\n",
    "plt.ylabel('Frequency')\n",
    "\n",
    "plt.subplot(1, 2, 2)\n",
    "plt.hist(Night['Alphas'], bins, histtype='bar', color='black', edgecolor='white')\n",
    "plt.title('Alpha through the night')\n",
    "plt.xlabel('Alpha')\n",
    "plt.ylabel('Frequency')\n",
    "plt.show()\n",
    "\n",
    "med_day = np.mean(Day['Alphas'])\n",
    "med_night = np.mean(Night['Alphas'])\n",
    "\n",
    "print('The median value for alpha during the day is {}.\\n\\\n",
    "Whereas the median value fo alpha during the night is {}'.format(round(med_day, 3), round(med_night, 3)))\n",
    ";"
   ]
  },
  {
   "cell_type": "code",
   "execution_count": 129,
   "metadata": {},
   "outputs": [
    {
     "data": {
      "image/png": "[encoded data removed]",
      "text/plain": [
       "<Figure size 1008x360 with 2 Axes>"
      ]
     },
     "metadata": {
      "needs_background": "light"
     },
     "output_type": "display_data"
    },
    {
     "name": "stdout",
     "output_type": "stream",
     "text": [
      "The mean value for alpha in July for daytime is: 0.147\n"
     ]
    }
   ],
   "source": [
    "# Grouping the data by month and returning the mean value for the alphas\n",
    "\n",
    "Grouped_day = Day[['Month', 'Alphas']].groupby(['Month'], as_index=False).mean()\n",
    "Grouped_night = Night[['Month', 'Alphas']].groupby(['Month'], as_index=False).mean()\n",
    "\n",
    "# Plotting alpha for the different periods in a day\n",
    "plt.figure(figsize=(14, 5))\n",
    "\n",
    "plt.subplot(1, 2, 1)\n",
    "plt.plot(Grouped_day['Month'], Grouped_day['Alphas'], 'r-')\n",
    "plt.title('Alpha through daytime')\n",
    "plt.xlabel('Month')\n",
    "plt.ylabel('Alpha mean')\n",
    "\n",
    "plt.subplot(1, 2, 2)\n",
    "plt.plot(Grouped_night['Month'], Grouped_night['Alphas'], 'g-')\n",
    "plt.title('Alpha through the night')\n",
    "plt.xlabel('Month')\n",
    "plt.ylabel('Alpha mean')\n",
    "plt.show()\n",
    "\n",
    "July = Grouped_day['Alphas'].values[Grouped_day.Month == 7].item()\n",
    "print('The mean value for alpha in July for daytime is:', round(July, 3))"
   ]
  }
 ],
 "metadata": {
  "kernelspec": {
   "display_name": "Python 3",
   "language": "python",
   "name": "python3"
  },
  "language_info": {
   "codemirror_mode": {
    "name": "ipython",
    "version": 3
   },
   "file_extension": ".py",
   "mimetype": "text/x-python",
   "name": "python",
   "nbconvert_exporter": "python",
   "pygments_lexer": "ipython3",
   "version": "3.7.3"
  }
 },
 "nbformat": 4,
 "nbformat_minor": 2
}
